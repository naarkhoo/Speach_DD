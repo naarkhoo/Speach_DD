{
 "cells": [
  {
   "cell_type": "code",
   "execution_count": 18,
   "metadata": {},
   "outputs": [],
   "source": [
    "from nltk.tokenize import sent_tokenize\n",
    "# load text from 1st chapter\n",
    "\n",
    "import glob\n",
    "for txtfilename in glob.glob(\"speech_DD/*.txt\"):\n",
    "    jsonfilename = \"speech_DD/jsons/\" + txtfilename.split(\"/\")[1].replace(\".txt\", '_to_json.txt')\n",
    "\n",
    "    with open(txtfilename, 'r') as f: \n",
    "        data = f.read()\n",
    "\n",
    "    paragraphs = data.split(\"\\n\\n\")\n",
    "\n",
    "    import re\n",
    "    paragraph_sentence_list = []\n",
    "    for paragraph in paragraphs:\n",
    "        paragraph = paragraph.replace(\"\\n\", \" \")\n",
    "        paragraph = paragraph.replace(\" - \", \"\")\n",
    "        paragraph = re.sub(r'[^a-zA-Z0–9_*.,?!åäöèÅÄÖÈÉçëË]', ' ',    paragraph)\n",
    "        paragraph_sentence_list.append(sent_tokenize(paragraph))\n",
    "\n",
    "\n",
    "    with open(jsonfilename, 'w') as f:\n",
    "        for paragraph in paragraph_sentence_list:\n",
    "            for setence in paragraph:\n",
    "                f.write(\"%s\\n\" % setence)\n",
    "#f.write(\"%s\\n\" % setence)"
   ]
  },
  {
   "cell_type": "code",
   "execution_count": 8,
   "metadata": {},
   "outputs": [],
   "source": [
    "jsonfilename = \"speech_DD/jsons/\" + txtfilename.split(\"/\")[1].replace(\".txt\", '.json')"
   ]
  },
  {
   "cell_type": "code",
   "execution_count": 11,
   "metadata": {},
   "outputs": [
    {
     "name": "stderr",
     "output_type": "stream",
     "text": [
      "[nltk_data] Downloading package punkt to /Users/alireza/nltk_data...\n",
      "[nltk_data]   Unzipping tokenizers/punkt.zip.\n"
     ]
    },
    {
     "data": {
      "text/plain": [
       "True"
      ]
     },
     "execution_count": 11,
     "metadata": {},
     "output_type": "execute_result"
    }
   ],
   "source": [
    "import nltk\n",
    "nltk.download('punkt')"
   ]
  },
  {
   "cell_type": "code",
   "execution_count": 15,
   "metadata": {},
   "outputs": [
    {
     "data": {
      "text/plain": [
       "'speech_DD/G9.txt'"
      ]
     },
     "execution_count": 15,
     "metadata": {},
     "output_type": "execute_result"
    }
   ],
   "source": [
    "txtfilename"
   ]
  }
 ],
 "metadata": {
  "kernelspec": {
   "display_name": "Python 3",
   "language": "python",
   "name": "python3"
  },
  "language_info": {
   "codemirror_mode": {
    "name": "ipython",
    "version": 3
   },
   "file_extension": ".py",
   "mimetype": "text/x-python",
   "name": "python",
   "nbconvert_exporter": "python",
   "pygments_lexer": "ipython3",
   "version": "3.7.4"
  }
 },
 "nbformat": 4,
 "nbformat_minor": 2
}
