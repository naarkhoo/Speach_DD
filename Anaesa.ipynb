{
 "cells": [
  {
   "cell_type": "code",
   "execution_count": 1,
   "metadata": {},
   "outputs": [],
   "source": [
    "#!/usr/bin/env python\n",
    "# coding=utf-8\n",
    "\n",
    "from aeneas.executetask import ExecuteTask\n",
    "from aeneas.task import Task"
   ]
  },
  {
   "cell_type": "code",
   "execution_count": 2,
   "metadata": {},
   "outputs": [],
   "source": [
    "# create Task object\n",
    "config_string = u\"task_language=eng|is_text_type=plain|os_task_file_format=json\"\n",
    "task = Task(config_string=config_string)\n",
    "\n",
    "#task.audio_file_path_absolute = \"books/18043-0/goteborgsflickor_01_stroemberg_64kb_clean.mp3\"\n",
    "#task.text_file_path_absolute = \"books/18043-0_aeneas_data_1.txt\"\n",
    "#task.sync_map_file_path_absolute = \"books/18043-0_output/syncmap.json\""
   ]
  },
  {
   "cell_type": "code",
   "execution_count": null,
   "metadata": {},
   "outputs": [
    {
     "name": "stdout",
     "output_type": "stream",
     "text": [
      "audio_DD/042 Bergen County Prosecutor's Office Cold Case Press Conference.mp3\n",
      "audio_DD/042 Bergen County Prosecutor's Office Cold Case Press Conference.mp3\n",
      "text_DD/G42_to_json.txt\n",
      "audio_DD/005 9.24.2019 Princeton, NJ NJHA.mp3\n",
      "audio_DD/005 9.24.2019 Princeton, NJ NJHA.mp3\n",
      "text_DD/G5_to_json.txt\n",
      "audio_DD/050 3-25-2018 Teaneck, NJ American Muslim Union.mp3\n",
      "audio_DD/050 3-25-2018 Teaneck, NJ American Muslim Union.mp3\n",
      "text_DD/G50_to_json.txt\n",
      "audio_DD/034 Contaminated Sites Press Conference in Newark, N.J..mp3\n",
      "audio_DD/034 Contaminated Sites Press Conference in Newark, N.J..mp3\n",
      "text_DD/G34_to_json.txt\n",
      "audio_DD/014 3.22.2019 Newark, NJ Ghost Gun Lawsuit Press Conference.mp3\n",
      "audio_DD/014 3.22.2019 Newark, NJ Ghost Gun Lawsuit Press Conference.mp3\n",
      "text_DD/G14_to_json.txt\n",
      "audio_DD/025 New Jersey Office of the Attorney General Live Stream.mp3\n",
      "audio_DD/025 New Jersey Office of the Attorney General Live Stream.mp3\n",
      "text_DD/G25_to_json.txt\n",
      "audio_DD/021 Guggenheim Keynote Gurbir Grewal.mp3\n",
      "audio_DD/021 Guggenheim Keynote Gurbir Grewal.mp3\n",
      "text_DD/G21_to_json.txt\n",
      "audio_DD/053 We've Chosen To Leave Our Comfort Zones To Battle This Epidemic.mp3\n",
      "audio_DD/053 We've Chosen To Leave Our Comfort Zones To Battle This Epidemic.mp3\n",
      "text_DD/G53_to_json.txt\n",
      "audio_DD/015 3.21.2019 Harrison Heroin Mill Press Conference.mp3\n",
      "audio_DD/015 3.21.2019 Harrison Heroin Mill Press Conference.mp3\n",
      "text_DD/G15_to_json.txt\n",
      "audio_DD/004 9.24.2019 Hackensack, NJ Sexual Harassment.mp3\n",
      "audio_DD/004 9.24.2019 Hackensack, NJ Sexual Harassment.mp3\n",
      "text_DD/G4_to_json.txt\n",
      "audio_DD/030 Attorney General Gurbir Grewal Announces Decrease in Opioid Prescriptions.mp3\n",
      "audio_DD/030 Attorney General Gurbir Grewal Announces Decrease in Opioid Prescriptions.mp3\n",
      "text_DD/G30_to_json.txt\n",
      "audio_DD/044 New Jersey Office of the Attorney General Live Stream.mp3\n",
      "audio_DD/044 New Jersey Office of the Attorney General Live Stream.mp3\n",
      "text_DD/G44_to_json.txt\n",
      "audio_DD/045 New Jersey Office of the Attorney General Live Stream.mp3\n",
      "audio_DD/045 New Jersey Office of the Attorney General Live Stream.mp3\n",
      "text_DD/G45_to_json.txt\n"
     ]
    }
   ],
   "source": [
    "import glob\n",
    "import os\n",
    "\n",
    "all_voices = glob.glob(\"audio_DD/*.mp3\")\n",
    "for voice in all_voices:\n",
    "    \n",
    "    print(voice)\n",
    "\n",
    "    numf = int(voice.split(\"/\")[1].split(\" \")[0])\n",
    "    textf = \"text_DD/G\" + str(numf) + \"_to_json.txt\"\n",
    "    json = \"jsons/G\" + str(numf) + \".json\"\n",
    "    if not os.path.isfile(json):\n",
    "        if os.path.isfile(voice):\n",
    "            print(voice)\n",
    "            task.audio_file_path_absolute = voice\n",
    "            \n",
    "        if os.path.isfile(textf):\n",
    "            print(textf)\n",
    "            task.text_file_path_absolute = textf\n",
    "            \n",
    "        task.sync_map_file_path_absolute = json\n",
    "        ExecuteTask(task).execute()\n",
    "    \n",
    "    # output sync map to file\n",
    "        task.output_sync_map_file()\n",
    "    "
   ]
  },
  {
   "cell_type": "code",
   "execution_count": 19,
   "metadata": {},
   "outputs": [
    {
     "data": {
      "text/plain": [
       "'audio_DD/043 New Jersey Attorney General Gurbir Grewal Keynote at APAICS.mp3'"
      ]
     },
     "execution_count": 19,
     "metadata": {},
     "output_type": "execute_result"
    }
   ],
   "source": [
    "voice"
   ]
  },
  {
   "cell_type": "code",
   "execution_count": null,
   "metadata": {},
   "outputs": [],
   "source": []
  }
 ],
 "metadata": {
  "kernelspec": {
   "display_name": "Python 3",
   "language": "python",
   "name": "python3"
  },
  "language_info": {
   "codemirror_mode": {
    "name": "ipython",
    "version": 3
   },
   "file_extension": ".py",
   "mimetype": "text/x-python",
   "name": "python",
   "nbconvert_exporter": "python",
   "pygments_lexer": "ipython3",
   "version": "3.7.3"
  }
 },
 "nbformat": 4,
 "nbformat_minor": 2
}
