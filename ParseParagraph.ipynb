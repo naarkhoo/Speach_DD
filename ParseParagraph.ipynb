{
 "cells": [
  {
   "cell_type": "code",
   "execution_count": 3,
   "metadata": {},
   "outputs": [],
   "source": [
    "from nltk.tokenize import sent_tokenize\n",
    "# load text from 1st chapter\n",
    "with open('Rev/G1.txt', 'r') as f: \n",
    "    data = f.read()\n",
    "    \n",
    "paragraphs = data.split(\"\\n\\n\")"
   ]
  },
  {
   "cell_type": "code",
   "execution_count": 4,
   "metadata": {},
   "outputs": [
    {
     "data": {
      "text/plain": [
       "6"
      ]
     },
     "execution_count": 4,
     "metadata": {},
     "output_type": "execute_result"
    }
   ],
   "source": [
    "len(paragraphs)"
   ]
  },
  {
   "cell_type": "code",
   "execution_count": 7,
   "metadata": {},
   "outputs": [],
   "source": [
    "import re\n",
    "paragraph_sentence_list = []\n",
    "for paragraph in paragraphs:\n",
    "    paragraph = paragraph.replace(\"\\n\", \" \")\n",
    "    paragraph = paragraph.replace(\" - \", \"\")\n",
    "    paragraph = re.sub(r'[^a-zA-Z0–9_*.,?!åäöèÅÄÖÈÉçëË]', ' ',    paragraph)\n",
    "    paragraph_sentence_list.append(sent_tokenize(paragraph))"
   ]
  },
  {
   "cell_type": "code",
   "execution_count": 21,
   "metadata": {},
   "outputs": [],
   "source": [
    "with open('Rev/your_file.txt', 'w') as f:\n",
    "    for paragraph in paragraph_sentence_list:\n",
    "        for setence in paragraph:\n",
    "            f.write(\"%s\\n\" % setence)\n",
    "#f.write(\"%s\\n\" % setence)"
   ]
  },
  {
   "cell_type": "code",
   "execution_count": 2,
   "metadata": {},
   "outputs": [
    {
     "ename": "IndentationError",
     "evalue": "unindent does not match any outer indentation level (<tokenize>, line 11)",
     "output_type": "error",
     "traceback": [
      "\u001b[0;36m  File \u001b[0;32m\"<tokenize>\"\u001b[0;36m, line \u001b[0;32m11\u001b[0m\n\u001b[0;31m    elif \"End of the Project Gutenberg EBook” in “ “.join(paragraph):\u001b[0m\n\u001b[0m    ^\u001b[0m\n\u001b[0;31mIndentationError\u001b[0m\u001b[0;31m:\u001b[0m unindent does not match any outer indentation level\n"
     ]
    }
   ],
   "source": [
    "text = \"\"\n",
    "count = 0\n",
    "for paragraph in paragraph_sentence_list:\n",
    "    if \" \".join(paragraph).isupper():\n",
    "        \n",
    "            fw.write(text)\n",
    "    text = \"\"\n",
    "    count += 1\n",
    "    text += \"\\n\".join(paragraph)\n",
    "    text += \"\\n\\n\"\n",
    " elif \"End of the Project Gutenberg EBook” in “ “.join(paragraph):\n",
    "     break\n",
    " else:\n",
    "     text += “\\n”.join(paragraph)\n",
    "     text += “\\n\\n”"
   ]
  },
  {
   "cell_type": "code",
   "execution_count": null,
   "metadata": {},
   "outputs": [],
   "source": []
  }
 ],
 "metadata": {
  "interpreter": {
   "hash": "b48543dbdda47dc7a1597846df3efba3cc3eaa08bb698340e8731e6f0ba00e25"
  },
  "kernelspec": {
   "display_name": "Python 3.9.5",
   "language": "python",
   "name": "python3"
  },
  "language_info": {
   "codemirror_mode": {
    "name": "ipython",
    "version": 3
   },
   "file_extension": ".py",
   "mimetype": "text/x-python",
   "name": "python",
   "nbconvert_exporter": "python",
   "pygments_lexer": "ipython3",
   "version": "3.9.5"
  }
 },
 "nbformat": 4,
 "nbformat_minor": 2
}
